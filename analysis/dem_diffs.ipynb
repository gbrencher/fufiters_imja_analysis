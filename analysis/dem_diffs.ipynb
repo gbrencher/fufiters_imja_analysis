{
 "cells": [
  {
   "cell_type": "code",
   "execution_count": 1,
   "id": "b05205d1-db07-48f5-8c41-c037c1f16146",
   "metadata": {},
   "outputs": [],
   "source": [
    "import xarray as xr\n",
    "import rasterio as rio\n",
    "import rioxarray\n",
    "import matplotlib.pyplot as plt\n",
    "import seaborn as sns"
   ]
  },
  {
   "cell_type": "code",
   "execution_count": 2,
   "id": "18affad1-8f15-446a-9ebd-5ac904b9fe96",
   "metadata": {},
   "outputs": [],
   "source": [
    "dem_diff_fn = 'dem_diffs/20160211-20100221_diff.tif'\n",
    "diff_ds = rioxarray.open_rasterio(dem_diff_fn)"
   ]
  },
  {
   "cell_type": "code",
   "execution_count": null,
   "id": "cea1482d-adc0-43b9-bc5f-f00ee5a42076",
   "metadata": {},
   "outputs": [],
   "source": []
  },
  {
   "cell_type": "code",
   "execution_count": null,
   "id": "bfb6dc21-3453-417f-8ca0-7677481c36a1",
   "metadata": {},
   "outputs": [],
   "source": []
  },
  {
   "cell_type": "code",
   "execution_count": null,
   "id": "bc2d027e-9bb5-46c9-b17a-1e250685bca4",
   "metadata": {},
   "outputs": [],
   "source": []
  }
 ],
 "metadata": {
  "kernelspec": {
   "display_name": "mintpy",
   "language": "python",
   "name": "mintpy"
  },
  "language_info": {
   "codemirror_mode": {
    "name": "ipython",
    "version": 3
   },
   "file_extension": ".py",
   "mimetype": "text/x-python",
   "name": "python",
   "nbconvert_exporter": "python",
   "pygments_lexer": "ipython3",
   "version": "3.11.8"
  }
 },
 "nbformat": 4,
 "nbformat_minor": 5
}
